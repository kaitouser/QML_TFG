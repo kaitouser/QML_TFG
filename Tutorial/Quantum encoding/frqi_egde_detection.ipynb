{
 "cells": [
  {
   "cell_type": "code",
   "execution_count": 5,
   "id": "0d3399fe",
   "metadata": {},
   "outputs": [
    {
     "name": "stdout",
     "output_type": "stream",
     "text": [
      "Requirement already satisfied: numpy in c:\\users\\jfcoa\\anaconda3\\lib\\site-packages (from -r requirements.txt (line 1)) (1.23.5)\n",
      "Requirement already satisfied: matplotlib in c:\\users\\jfcoa\\anaconda3\\lib\\site-packages (from -r requirements.txt (line 2)) (3.7.1)\n",
      "Requirement already satisfied: qiskit-aer in c:\\users\\jfcoa\\anaconda3\\lib\\site-packages (from -r requirements.txt (line 3)) (0.14.1)\n"
     ]
    },
    {
     "name": "stderr",
     "output_type": "stream",
     "text": [
      "ERROR: Could not find a version that satisfies the requirement qiskit==\"0.46\" (from versions: 0.3.2, 0.3.3, 0.3.4, 0.3.5, 0.3.6, 0.3.7, 0.3.8, 0.3.9, 0.3.10, 0.3.11, 0.3.12, 0.3.13, 0.3.14, 0.3.15, 0.3.16, 0.4.0, 0.4.1, 0.4.2, 0.4.3, 0.4.4, 0.4.5, 0.4.6, 0.4.7, 0.4.8, 0.4.9, 0.4.10, 0.4.11, 0.4.12, 0.4.13, 0.4.14, 0.4.15, 0.5.0, 0.5.1, 0.5.2, 0.5.3, 0.5.4, 0.5.5, 0.5.6, 0.5.7, 0.6.0, 0.6.1, 0.7.0, 0.7.1, 0.7.2, 0.7.3, 0.8.0, 0.8.1, 0.9.0, 0.10.0, 0.10.1, 0.10.2, 0.10.3, 0.10.4, 0.10.5, 0.11.0, 0.11.1, 0.11.2, 0.12.0, 0.12.1, 0.12.2, 0.13.0, 0.14.0, 0.14.1, 0.15.0, 0.16.0, 0.16.1, 0.16.2, 0.17.0, 0.18.0, 0.18.1, 0.18.2, 0.18.3, 0.19.0, 0.19.1, 0.19.2, 0.19.3, 0.19.4, 0.19.5, 0.19.6, 0.20.0, 0.20.1, 0.21.0, 0.22.0, 0.23.0, 0.23.1, 0.23.2, 0.23.3, 0.23.4, 0.23.5, 0.23.6, 0.24.0, 0.24.1, 0.25.0, 0.25.1, 0.25.2, 0.25.3, 0.25.4, 0.26.0, 0.26.1, 0.26.2, 0.27.0, 0.28.0, 0.29.0, 0.29.1, 0.30.0, 0.30.1, 0.31.0, 0.32.0, 0.32.1, 0.33.0, 0.33.1, 0.34.0, 0.34.1, 0.34.2, 0.35.0, 0.36.0, 0.36.1, 0.36.2, 0.37.0, 0.37.1, 0.37.2, 0.38.0, 0.39.0, 0.39.1, 0.39.2, 0.39.3, 0.39.4, 0.39.5, 0.40.0, 0.41.0, 0.41.1, 0.42.0, 0.42.1, 0.43.0, 0.43.1, 0.43.2, 0.43.3, 0.44.0, 0.44.1, 0.44.2, 0.44.3, 0.45.0rc1, 0.45.0, 0.45.1, 0.45.2, 0.45.3, 0.46.0, 0.46.1, 1.0.0b1, 1.0.0rc1, 1.0.0, 1.0.1, 1.0.2, 1.1.0rc1, 1.1.0)\n",
      "ERROR: No matching distribution found for qiskit==\"0.46\"\n"
     ]
    }
   ],
   "source": [
    "!pip install -r requirements.txt"
   ]
  },
  {
   "cell_type": "code",
   "execution_count": 37,
   "id": "161e2124",
   "metadata": {},
   "outputs": [],
   "source": [
    "import math\n",
    "from math import pi\n",
    "\n",
    "import numpy as np\n",
    "\n",
    "import cv2\n",
    "\n",
    "from utils import image_generate, plot_to_compare, calculate_mse, plot_mse\n",
    "\n",
    "import qiskit\n",
    "from qiskit.extensions import XGate\n",
    "from qiskit import transpile, assemble\n",
    "from qiskit.primitives import Estimator\n",
    "from qiskit.quantum_info import SparsePauliOp, Pauli\n",
    "from qiskit.visualization import circuit_drawer\n",
    "from qiskit.visualization import plot_histogram\n",
    "from qiskit import QuantumRegister, ClassicalRegister\n",
    "from qiskit import QuantumCircuit, Aer, IBMQ, execute\n",
    "from qiskit.circuit.library.standard_gates.ry import RYGate\n",
    "from qiskit.tools.visualization import plot_bloch_multivector\n",
    "from qiskit.circuit.library import QFT\n",
    "\n",
    "from skimage.metrics import mean_squared_error\n",
    "\n",
    "import matplotlib.pyplot as plt\n",
    "%matplotlib inline\n",
    "\n",
    "from ionq_config import coupling_map, basis_gates\n",
    "\n",
    "from ibm_washington_config import coupling_map, basis_gates"
   ]
  },
  {
   "cell_type": "code",
   "execution_count": 38,
   "id": "6d91648e",
   "metadata": {},
   "outputs": [],
   "source": [
    "def quantum_adder(circuit, epsilon):\n",
    "    qubits = circuit.qubits\n",
    "    n_qubits = circuit.num_qubits\n",
    "    \n",
    "    qft = QFT(n_qubits, do_swaps=False).to_instruction()\n",
    "    circuit.append(qft, qubits)\n",
    "    \n",
    "    for i in range(n_qubits):\n",
    "        circuit.p(2 * pi * epsilon / 2**(i + 1), qubits[n_qubits - i - 1])\n",
    "    \n",
    "    iqft = QFT(n_qubits, do_swaps=False, inverse=True).to_instruction()\n",
    "    circuit.append(iqft, qubits)\n",
    "\n",
    "\n",
    "def quantum_edge_detection(circuit):\n",
    "    qubits = circuit.qubits\n",
    "    ancilla = qubits[0]\n",
    "    \n",
    "    circuit.h(ancilla)\n",
    "    quantum_adder(circuit, -1)\n",
    "    circuit.h(ancilla)\n",
    "    circuit.x(ancilla)"
   ]
  },
  {
   "cell_type": "code",
   "execution_count": 45,
   "id": "688ba45c",
   "metadata": {},
   "outputs": [],
   "source": [
    "def backend_sim(qc, backend, shots):\n",
    "    t_qc = transpile(qc, backend)\n",
    "    qobj = assemble(t_qc, shots=shots)\n",
    "    job = backend.run(qobj)\n",
    "    result = job.result()\n",
    "    counts = result.get_counts()\n",
    "    return result, counts"
   ]
  },
  {
   "cell_type": "code",
   "execution_count": 39,
   "id": "138160a1",
   "metadata": {},
   "outputs": [
    {
     "data": {
      "image/png": "[encoded data removed]",
      "text/plain": [
       "<Figure size 640x480 with 1 Axes>"
      ]
     },
     "metadata": {},
     "output_type": "display_data"
    }
   ],
   "source": [
    "image = plt.imread('images/pikachu.png')\n",
    "plt.imshow(image)\n",
    "plt.show()"
   ]
  },
  {
   "cell_type": "code",
   "execution_count": 40,
   "id": "ce0eaf40",
   "metadata": {},
   "outputs": [],
   "source": [
    "image = cv2.cvtColor(image, cv2.COLOR_BGR2GRAY)\n",
    "image = np.asarray(image)\n",
    "image = np.interp(image, (0, 1), (0, 255))"
   ]
  },
  {
   "cell_type": "code",
   "execution_count": 41,
   "id": "a8cc3a05",
   "metadata": {},
   "outputs": [
    {
     "name": "stdout",
     "output_type": "stream",
     "text": [
      "[[0. 0. 0. ... 0. 0. 0.]\n",
      " [0. 0. 0. ... 0. 0. 0.]\n",
      " [0. 0. 0. ... 0. 0. 0.]\n",
      " ...\n",
      " [0. 0. 0. ... 0. 0. 0.]\n",
      " [0. 0. 0. ... 0. 0. 0.]\n",
      " [0. 0. 0. ... 0. 0. 0.]]\n"
     ]
    }
   ],
   "source": [
    "print(image)"
   ]
  },
  {
   "cell_type": "code",
   "execution_count": 42,
   "id": "e68cf257",
   "metadata": {},
   "outputs": [
    {
     "data": {
      "text/plain": [
       "<matplotlib.image.AxesImage at 0x1ef88952640>"
      ]
     },
     "execution_count": 42,
     "metadata": {},
     "output_type": "execute_result"
    },
    {
     "data": {
      "image/png": "[encoded data removed]",
      "text/plain": [
       "<Figure size 640x480 with 1 Axes>"
      ]
     },
     "metadata": {},
     "output_type": "display_data"
    }
   ],
   "source": [
    "plt.imshow(image, cmap='gray')"
   ]
  },
  {
   "cell_type": "code",
   "execution_count": 27,
   "id": "f04d652e",
   "metadata": {},
   "outputs": [],
   "source": [
    "# Image flattening into 1D vector for convenience and simplicity.\n",
    "input_im = image.copy().flatten()\n",
    "\n",
    "# Transform the normalized values into angles\n",
    "thetas = np.interp(input_im, (0, 255), (0, np.pi/2))\n",
    "\n",
    "# Number of required qubits needed \n",
    "coord_q_num = int(np.ceil(math.log(len(input_im), 2)))"
   ]
  },
  {
   "cell_type": "code",
   "execution_count": 28,
   "id": "6d40e7c4",
   "metadata": {},
   "outputs": [],
   "source": [
    "# Sets the qubits needed for the circuit\n",
    "O = QuantumRegister(coord_q_num, 'coordinates')\n",
    "c = QuantumRegister(1,'c_reg') # target qubit\n",
    "\n",
    "# Sets the bits that will hold the measurements result\n",
    "cr = ClassicalRegister(O.size+c.size, \"cl_reg\")\n",
    "\n",
    "# Creates the quantum circuit\n",
    "qc = QuantumCircuit(c, O, cr)\n",
    "num_qubits = qc.num_qubits\n",
    "\n",
    "# Applies quantum gates to each initial qubit in the circuit\n",
    "qc.h(O) # h -> Hadamard gate\n",
    "\n",
    "controls = []\n",
    "for i, _ in enumerate(O):\n",
    "    controls.extend([O[i]]) # Store the no-target qubits (also named controls)\n",
    "for i, theta in enumerate(thetas):\n",
    "    # Generate the different possible states of our qubits\n",
    "    qubit_index_bin = \"{0:b}\".format(i).zfill(coord_q_num)\n",
    "    \n",
    "    for k, qub_ind in enumerate(qubit_index_bin):\n",
    "        if int(qub_ind):\n",
    "            qc.x(O[k]) # Apply X-gate to qubits in state '1'\n",
    "    qc.barrier()\n",
    "    \n",
    "    # Applies the Ry multi-controlled gate to all the circuit qubits\n",
    "    qc.mcry(theta=2*theta,\n",
    "                  q_controls=controls,\n",
    "                  q_target=c[0])\n",
    "    \n",
    "    qc.barrier()\n",
    "    for k, qub_ind in enumerate(qubit_index_bin):\n",
    "        if int(qub_ind):\n",
    "            qc.x(O[k]) # Again, we apply X-gate to qubits in state '1'\n",
    "    qc.barrier()"
   ]
  },
  {
   "cell_type": "code",
   "execution_count": null,
   "id": "b5191d82",
   "metadata": {},
   "outputs": [
    {
     "name": "stdout",
     "output_type": "stream",
     "text": [
      "1600029\n"
     ]
    }
   ],
   "source": [
    "quantum_edge_detection(qc)\n",
    "qc.measure(list(reversed(range(qc.num_qubits))), list(range(cr.size)))\n",
    "print(qc.depth())\n",
    "shots = 8192\n",
    "backend = Aer.get_backend('qasm_simulator')\n",
    "result, counts = backend_sim(qc, backend, shots)"
   ]
  }
 ],
 "metadata": {
  "kernelspec": {
   "display_name": "Python 3 (ipykernel)",
   "language": "python",
   "name": "python3"
  },
  "language_info": {
   "codemirror_mode": {
    "name": "ipython",
    "version": 3
   },
   "file_extension": ".py",
   "mimetype": "text/x-python",
   "name": "python",
   "nbconvert_exporter": "python",
   "pygments_lexer": "ipython3",
   "version": "3.9.7"
  }
 },
 "nbformat": 4,
 "nbformat_minor": 5
}
